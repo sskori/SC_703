{
 "cells": [
  {
   "cell_type": "code",
   "execution_count": 1,
   "metadata": {
    "colab": {
     "base_uri": "https://localhost:8080/"
    },
    "executionInfo": {
     "elapsed": 5366,
     "status": "ok",
     "timestamp": 1680417138895,
     "user": {
      "displayName": "Siddhesh Mane",
      "userId": "09291277865058311581"
     },
     "user_tz": -330
    },
    "id": "ZI2znYYYpHaX",
    "outputId": "c268cf17-fa67-45ab-af2a-efd32e6ed674"
   },
   "outputs": [
    {
     "name": "stdout",
     "output_type": "stream",
     "text": [
      "Requirement already satisfied: pygad==2.1.0 in c:\\users\\lenovo\\anaconda3\\lib\\site-packages (2.1.0)\n",
      "Requirement already satisfied: numpy in c:\\users\\lenovo\\anaconda3\\lib\\site-packages (from pygad==2.1.0) (1.21.5)\n",
      "Requirement already satisfied: matplotlib in c:\\users\\lenovo\\anaconda3\\lib\\site-packages (from pygad==2.1.0) (3.5.1)\n",
      "Requirement already satisfied: fonttools>=4.22.0 in c:\\users\\lenovo\\anaconda3\\lib\\site-packages (from matplotlib->pygad==2.1.0) (4.25.0)\n",
      "Requirement already satisfied: pillow>=6.2.0 in c:\\users\\lenovo\\anaconda3\\lib\\site-packages (from matplotlib->pygad==2.1.0) (9.0.1)\n",
      "Requirement already satisfied: pyparsing>=2.2.1 in c:\\users\\lenovo\\anaconda3\\lib\\site-packages (from matplotlib->pygad==2.1.0) (3.0.4)\n",
      "Requirement already satisfied: packaging>=20.0 in c:\\users\\lenovo\\anaconda3\\lib\\site-packages (from matplotlib->pygad==2.1.0) (21.3)\n",
      "Requirement already satisfied: python-dateutil>=2.7 in c:\\users\\lenovo\\anaconda3\\lib\\site-packages (from matplotlib->pygad==2.1.0) (2.8.2)\n",
      "Requirement already satisfied: cycler>=0.10 in c:\\users\\lenovo\\anaconda3\\lib\\site-packages (from matplotlib->pygad==2.1.0) (0.11.0)\n",
      "Requirement already satisfied: kiwisolver>=1.0.1 in c:\\users\\lenovo\\anaconda3\\lib\\site-packages (from matplotlib->pygad==2.1.0) (1.3.2)\n",
      "Requirement already satisfied: six>=1.5 in c:\\users\\lenovo\\anaconda3\\lib\\site-packages (from python-dateutil>=2.7->matplotlib->pygad==2.1.0) (1.16.0)\n"
     ]
    }
   ],
   "source": [
    "# !pip install pygad\n",
    "!pip install pygad==2.1.0"
   ]
  },
  {
   "cell_type": "code",
   "execution_count": 2,
   "metadata": {
    "id": "ka1l_oJQqWSX"
   },
   "outputs": [],
   "source": [
    "import pygad\n",
    "import numpy as np"
   ]
  },
  {
   "cell_type": "code",
   "execution_count": 3,
   "metadata": {
    "id": "N95N8eCJqY1F"
   },
   "outputs": [],
   "source": [
    "X=[4,-2,3.5,5,-11,-4.7]\n",
    "desired_output=44"
   ]
  },
  {
   "cell_type": "code",
   "execution_count": 4,
   "metadata": {
    "id": "KJgJsHKmqdTG"
   },
   "outputs": [],
   "source": [
    "def fitness_func(solution,solution_idx):\n",
    "    output=np.sum(solution*X)\n",
    "    fitness=1.0/np.abs(output-desired_output)\n",
    "    return fitness"
   ]
  },
  {
   "cell_type": "code",
   "execution_count": 5,
   "metadata": {
    "id": "18jkdw4bqe3M"
   },
   "outputs": [],
   "source": [
    "fitness_function=fitness_func\n",
    "num_generations=50\n",
    "num_parents_mating=4\n",
    "sol_per_pop=8\n",
    "num_genes=len(X)\n",
    "init_range_low=-2\n",
    "init_range_high=5\n",
    "parent_selection_type='sss'\n",
    "keep_parents=1\n",
    "crossover_type=\"single_point\"\n",
    "mutation_type=\"random\""
   ]
  },
  {
   "cell_type": "code",
   "execution_count": 6,
   "metadata": {
    "id": "_1xyZrNIqf7t",
    "scrolled": true
   },
   "outputs": [],
   "source": [
    "ga_instance=pygad.GA(num_generations=num_generations,\n",
    "                     num_parents_mating=num_parents_mating,\n",
    "                     fitness_func=fitness_function,\n",
    "                     sol_per_pop=sol_per_pop,\n",
    "                     num_genes=num_genes,\n",
    "                     init_range_low=init_range_low,\n",
    "                     init_range_high=init_range_high,\n",
    "                     parent_selection_type=parent_selection_type,\n",
    "                     keep_parents=keep_parents,\n",
    "                     crossover_type=crossover_type,\n",
    "                     mutation_type=mutation_type,\n",
    "                     mutation_percent_genes=10)"
   ]
  },
  {
   "cell_type": "code",
   "execution_count": 7,
   "metadata": {
    "id": "r2cpgXZuqhPu"
   },
   "outputs": [],
   "source": [
    "ga_instance.run()"
   ]
  },
  {
   "cell_type": "code",
   "execution_count": 8,
   "metadata": {
    "colab": {
     "base_uri": "https://localhost:8080/"
    },
    "executionInfo": {
     "elapsed": 11,
     "status": "ok",
     "timestamp": 1680417218211,
     "user": {
      "displayName": "Siddhesh Mane",
      "userId": "09291277865058311581"
     },
     "user_tz": -330
    },
    "id": "h1h_vb0qqjd1",
    "outputId": "564ab49e-3ef3-4d14-e03d-aec0cedb41f1"
   },
   "outputs": [
    {
     "name": "stdout",
     "output_type": "stream",
     "text": [
      "solution is: [ 4.02347531  2.88326606  3.5125116   5.19649702 -0.8459192   2.96078205]\n"
     ]
    }
   ],
   "source": [
    "solution,solution_fitness,solution_idx=ga_instance.best_solution()\n",
    "print(\"solution is:\",solution)"
   ]
  },
  {
   "cell_type": "code",
   "execution_count": 9,
   "metadata": {
    "colab": {
     "base_uri": "https://localhost:8080/"
    },
    "executionInfo": {
     "elapsed": 520,
     "status": "ok",
     "timestamp": 1680417223843,
     "user": {
      "displayName": "Siddhesh Mane",
      "userId": "09291277865058311581"
     },
     "user_tz": -330
    },
    "id": "Z6QdimQiqmLm",
    "outputId": "a2796d5a-e944-4734-86ab-37b02877505c"
   },
   "outputs": [
    {
     "name": "stdout",
     "output_type": "stream",
     "text": [
      "fitness of solution is: 144.51714367779897\n"
     ]
    }
   ],
   "source": [
    "print(\"fitness of solution is:\",solution_fitness)"
   ]
  },
  {
   "cell_type": "code",
   "execution_count": null,
   "metadata": {
    "id": "HMZdAbY_q2su"
   },
   "outputs": [],
   "source": []
  }
 ],
 "metadata": {
  "colab": {
   "authorship_tag": "ABX9TyMmpap3AgCC6cXiLk50KHFp",
   "provenance": []
  },
  "kernelspec": {
   "display_name": "Python 3 (ipykernel)",
   "language": "python",
   "name": "python3"
  },
  "language_info": {
   "codemirror_mode": {
    "name": "ipython",
    "version": 3
   },
   "file_extension": ".py",
   "mimetype": "text/x-python",
   "name": "python",
   "nbconvert_exporter": "python",
   "pygments_lexer": "ipython3",
   "version": "3.9.12"
  }
 },
 "nbformat": 4,
 "nbformat_minor": 1
}
